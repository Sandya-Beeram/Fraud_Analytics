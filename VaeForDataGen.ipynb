{
 "cells": [
  {
   "cell_type": "code",
   "execution_count": 1,
   "id": "98b80e52-e227-45fc-b81d-6047b19a25ed",
   "metadata": {},
   "outputs": [],
   "source": [
    "import pandas as pd\n",
    "from sklearn.preprocessing import LabelEncoder\n",
    "from sklearn.model_selection import train_test_split\n",
    "import numpy as np"
   ]
  },
  {
   "cell_type": "code",
   "execution_count": 2,
   "id": "0dffe495-f1cd-4d0f-95d8-a3e9c9657a14",
   "metadata": {},
   "outputs": [],
   "source": [
    "df = pd.read_csv(\"card_transaction.v1.csv\")\n",
    "df1 = df"
   ]
  },
  {
   "cell_type": "code",
   "execution_count": 3,
   "id": "6782db57-e549-47a7-a738-4550ec3328e0",
   "metadata": {},
   "outputs": [
    {
     "data": {
      "text/html": [
       "<div>\n",
       "<style scoped>\n",
       "    .dataframe tbody tr th:only-of-type {\n",
       "        vertical-align: middle;\n",
       "    }\n",
       "\n",
       "    .dataframe tbody tr th {\n",
       "        vertical-align: top;\n",
       "    }\n",
       "\n",
       "    .dataframe thead th {\n",
       "        text-align: right;\n",
       "    }\n",
       "</style>\n",
       "<table border=\"1\" class=\"dataframe\">\n",
       "  <thead>\n",
       "    <tr style=\"text-align: right;\">\n",
       "      <th></th>\n",
       "      <th>User</th>\n",
       "      <th>Card</th>\n",
       "      <th>Year</th>\n",
       "      <th>Month</th>\n",
       "      <th>Day</th>\n",
       "      <th>Merchant Name</th>\n",
       "      <th>Zip</th>\n",
       "      <th>MCC</th>\n",
       "    </tr>\n",
       "  </thead>\n",
       "  <tbody>\n",
       "    <tr>\n",
       "      <th>count</th>\n",
       "      <td>2.555190e+06</td>\n",
       "      <td>2.555190e+06</td>\n",
       "      <td>2.555190e+06</td>\n",
       "      <td>2.555190e+06</td>\n",
       "      <td>2.555190e+06</td>\n",
       "      <td>2.555189e+06</td>\n",
       "      <td>2.216985e+06</td>\n",
       "      <td>2.555189e+06</td>\n",
       "    </tr>\n",
       "    <tr>\n",
       "      <th>mean</th>\n",
       "      <td>1.020676e+02</td>\n",
       "      <td>1.238151e+00</td>\n",
       "      <td>2.011793e+03</td>\n",
       "      <td>6.520146e+00</td>\n",
       "      <td>1.571605e+01</td>\n",
       "      <td>-5.783186e+17</td>\n",
       "      <td>5.306903e+04</td>\n",
       "      <td>5.563812e+03</td>\n",
       "    </tr>\n",
       "    <tr>\n",
       "      <th>std</th>\n",
       "      <td>6.215434e+01</td>\n",
       "      <td>1.344876e+00</td>\n",
       "      <td>5.150918e+00</td>\n",
       "      <td>3.470954e+00</td>\n",
       "      <td>8.790976e+00</td>\n",
       "      <td>4.731351e+18</td>\n",
       "      <td>2.851758e+04</td>\n",
       "      <td>8.973669e+02</td>\n",
       "    </tr>\n",
       "    <tr>\n",
       "      <th>min</th>\n",
       "      <td>0.000000e+00</td>\n",
       "      <td>0.000000e+00</td>\n",
       "      <td>1.995000e+03</td>\n",
       "      <td>1.000000e+00</td>\n",
       "      <td>1.000000e+00</td>\n",
       "      <td>-9.222265e+18</td>\n",
       "      <td>1.001000e+03</td>\n",
       "      <td>1.711000e+03</td>\n",
       "    </tr>\n",
       "    <tr>\n",
       "      <th>25%</th>\n",
       "      <td>4.800000e+01</td>\n",
       "      <td>0.000000e+00</td>\n",
       "      <td>2.008000e+03</td>\n",
       "      <td>3.000000e+00</td>\n",
       "      <td>8.000000e+00</td>\n",
       "      <td>-4.693980e+18</td>\n",
       "      <td>3.053500e+04</td>\n",
       "      <td>5.300000e+03</td>\n",
       "    </tr>\n",
       "    <tr>\n",
       "      <th>50%</th>\n",
       "      <td>1.010000e+02</td>\n",
       "      <td>1.000000e+00</td>\n",
       "      <td>2.012000e+03</td>\n",
       "      <td>7.000000e+00</td>\n",
       "      <td>1.600000e+01</td>\n",
       "      <td>-9.844448e+17</td>\n",
       "      <td>4.837500e+04</td>\n",
       "      <td>5.499000e+03</td>\n",
       "    </tr>\n",
       "    <tr>\n",
       "      <th>75%</th>\n",
       "      <td>1.560000e+02</td>\n",
       "      <td>2.000000e+00</td>\n",
       "      <td>2.016000e+03</td>\n",
       "      <td>1.000000e+01</td>\n",
       "      <td>2.300000e+01</td>\n",
       "      <td>3.102660e+18</td>\n",
       "      <td>7.863300e+04</td>\n",
       "      <td>5.813000e+03</td>\n",
       "    </tr>\n",
       "    <tr>\n",
       "      <th>max</th>\n",
       "      <td>2.150000e+02</td>\n",
       "      <td>8.000000e+00</td>\n",
       "      <td>2.020000e+03</td>\n",
       "      <td>1.200000e+01</td>\n",
       "      <td>3.100000e+01</td>\n",
       "      <td>9.222877e+18</td>\n",
       "      <td>9.992800e+04</td>\n",
       "      <td>9.402000e+03</td>\n",
       "    </tr>\n",
       "  </tbody>\n",
       "</table>\n",
       "</div>"
      ],
      "text/plain": [
       "               User          Card          Year         Month           Day  \\\n",
       "count  2.555190e+06  2.555190e+06  2.555190e+06  2.555190e+06  2.555190e+06   \n",
       "mean   1.020676e+02  1.238151e+00  2.011793e+03  6.520146e+00  1.571605e+01   \n",
       "std    6.215434e+01  1.344876e+00  5.150918e+00  3.470954e+00  8.790976e+00   \n",
       "min    0.000000e+00  0.000000e+00  1.995000e+03  1.000000e+00  1.000000e+00   \n",
       "25%    4.800000e+01  0.000000e+00  2.008000e+03  3.000000e+00  8.000000e+00   \n",
       "50%    1.010000e+02  1.000000e+00  2.012000e+03  7.000000e+00  1.600000e+01   \n",
       "75%    1.560000e+02  2.000000e+00  2.016000e+03  1.000000e+01  2.300000e+01   \n",
       "max    2.150000e+02  8.000000e+00  2.020000e+03  1.200000e+01  3.100000e+01   \n",
       "\n",
       "       Merchant Name           Zip           MCC  \n",
       "count   2.555189e+06  2.216985e+06  2.555189e+06  \n",
       "mean   -5.783186e+17  5.306903e+04  5.563812e+03  \n",
       "std     4.731351e+18  2.851758e+04  8.973669e+02  \n",
       "min    -9.222265e+18  1.001000e+03  1.711000e+03  \n",
       "25%    -4.693980e+18  3.053500e+04  5.300000e+03  \n",
       "50%    -9.844448e+17  4.837500e+04  5.499000e+03  \n",
       "75%     3.102660e+18  7.863300e+04  5.813000e+03  \n",
       "max     9.222877e+18  9.992800e+04  9.402000e+03  "
      ]
     },
     "execution_count": 3,
     "metadata": {},
     "output_type": "execute_result"
    }
   ],
   "source": [
    "df.describe()"
   ]
  },
  {
   "cell_type": "code",
   "execution_count": 4,
   "id": "3bae854f-e76d-470e-9836-b677dacd7f72",
   "metadata": {},
   "outputs": [
    {
     "data": {
      "text/plain": [
       "<bound method NDFrame.head of          User  Card  Year  Month  Day   Time   Amount           Use Chip  \\\n",
       "0           0     0  2002      9    1  06:21  $134.09  Swipe Transaction   \n",
       "1           0     0  2002      9    1  06:42   $38.48  Swipe Transaction   \n",
       "2           0     0  2002      9    2  06:22  $120.34  Swipe Transaction   \n",
       "3           0     0  2002      9    2  17:45  $128.95  Swipe Transaction   \n",
       "4           0     0  2002      9    3  06:23  $104.71  Swipe Transaction   \n",
       "...       ...   ...   ...    ...  ...    ...      ...                ...   \n",
       "2555185   215     0  2006     11   14  07:19   $55.43  Swipe Transaction   \n",
       "2555186   215     0  2006     11   14  07:52    $7.23  Swipe Transaction   \n",
       "2555187   215     0  2006     11   14  08:55   $79.07  Swipe Transaction   \n",
       "2555188   215     0  2006     11   14  11:07   $22.05  Swipe Transaction   \n",
       "2555189   215     0  2006     11   14      1      NaN                NaN   \n",
       "\n",
       "         Merchant Name       Merchant City Merchant State      Zip     MCC  \\\n",
       "0         3.527213e+18            La Verne             CA  91750.0  5300.0   \n",
       "1        -7.276121e+17       Monterey Park             CA  91754.0  5411.0   \n",
       "2        -7.276121e+17       Monterey Park             CA  91754.0  5411.0   \n",
       "3         3.414527e+18       Monterey Park             CA  91754.0  5651.0   \n",
       "4         5.817218e+18            La Verne             CA  91750.0  5912.0   \n",
       "...                ...                 ...            ...      ...     ...   \n",
       "2555185   4.591017e+18  Whitehouse Station             NJ   8889.0  7349.0   \n",
       "2555186   5.205100e+18     North Brunswick             NJ   8902.0  5812.0   \n",
       "2555187   8.384250e+17            New York             NY  10001.0  4814.0   \n",
       "2555188   5.205100e+18     North Brunswick             NJ   8902.0  5812.0   \n",
       "2555189            NaN                 NaN            NaN      NaN     NaN   \n",
       "\n",
       "        Errors? Is Fraud?  \n",
       "0           NaN        No  \n",
       "1           NaN        No  \n",
       "2           NaN        No  \n",
       "3           NaN        No  \n",
       "4           NaN        No  \n",
       "...         ...       ...  \n",
       "2555185     NaN        No  \n",
       "2555186     NaN        No  \n",
       "2555187     NaN        No  \n",
       "2555188     NaN        No  \n",
       "2555189     NaN       NaN  \n",
       "\n",
       "[2555190 rows x 15 columns]>"
      ]
     },
     "execution_count": 4,
     "metadata": {},
     "output_type": "execute_result"
    }
   ],
   "source": [
    "df.head"
   ]
  },
  {
   "cell_type": "code",
   "execution_count": 5,
   "id": "24931cd8-e271-4197-abcc-c33b2592790b",
   "metadata": {},
   "outputs": [],
   "source": [
    "label_encoder = LabelEncoder()\n",
    "\n",
    "df['Is Fraud?'] = label_encoder.fit_transform(df['Is Fraud?'])\n",
    "df['Errors?'] = label_encoder.fit_transform(df['Errors?'])\n",
    "df['Merchant State'] = label_encoder.fit_transform(df['Merchant State'])\n",
    "df['Merchant City'] = label_encoder.fit_transform(df['Merchant City'])\n",
    "df['Use Chip'] = label_encoder.fit_transform(df['Use Chip'])"
   ]
  },
  {
   "cell_type": "code",
   "execution_count": 6,
   "id": "308c2d10-3c37-429e-96e3-4d5d6e59af47",
   "metadata": {},
   "outputs": [
    {
     "data": {
      "text/html": [
       "<div>\n",
       "<style scoped>\n",
       "    .dataframe tbody tr th:only-of-type {\n",
       "        vertical-align: middle;\n",
       "    }\n",
       "\n",
       "    .dataframe tbody tr th {\n",
       "        vertical-align: top;\n",
       "    }\n",
       "\n",
       "    .dataframe thead th {\n",
       "        text-align: right;\n",
       "    }\n",
       "</style>\n",
       "<table border=\"1\" class=\"dataframe\">\n",
       "  <thead>\n",
       "    <tr style=\"text-align: right;\">\n",
       "      <th></th>\n",
       "      <th>User</th>\n",
       "      <th>Card</th>\n",
       "      <th>Year</th>\n",
       "      <th>Month</th>\n",
       "      <th>Day</th>\n",
       "      <th>Use Chip</th>\n",
       "      <th>Merchant Name</th>\n",
       "      <th>Merchant City</th>\n",
       "      <th>Merchant State</th>\n",
       "      <th>Zip</th>\n",
       "      <th>MCC</th>\n",
       "      <th>Errors?</th>\n",
       "      <th>Is Fraud?</th>\n",
       "    </tr>\n",
       "  </thead>\n",
       "  <tbody>\n",
       "    <tr>\n",
       "      <th>count</th>\n",
       "      <td>2.555190e+06</td>\n",
       "      <td>2.555190e+06</td>\n",
       "      <td>2.555190e+06</td>\n",
       "      <td>2.555190e+06</td>\n",
       "      <td>2.555190e+06</td>\n",
       "      <td>2.555190e+06</td>\n",
       "      <td>2.555189e+06</td>\n",
       "      <td>2.555190e+06</td>\n",
       "      <td>2.555190e+06</td>\n",
       "      <td>2.216985e+06</td>\n",
       "      <td>2.555189e+06</td>\n",
       "      <td>2.555190e+06</td>\n",
       "      <td>2.555190e+06</td>\n",
       "    </tr>\n",
       "    <tr>\n",
       "      <th>mean</th>\n",
       "      <td>1.020676e+02</td>\n",
       "      <td>1.238151e+00</td>\n",
       "      <td>2.011793e+03</td>\n",
       "      <td>6.520146e+00</td>\n",
       "      <td>1.571605e+01</td>\n",
       "      <td>1.376472e+00</td>\n",
       "      <td>-5.783186e+17</td>\n",
       "      <td>3.425711e+03</td>\n",
       "      <td>7.723729e+01</td>\n",
       "      <td>5.306903e+04</td>\n",
       "      <td>5.563812e+03</td>\n",
       "      <td>1.992643e+01</td>\n",
       "      <td>1.160383e-03</td>\n",
       "    </tr>\n",
       "    <tr>\n",
       "      <th>std</th>\n",
       "      <td>6.215434e+01</td>\n",
       "      <td>1.344876e+00</td>\n",
       "      <td>5.150918e+00</td>\n",
       "      <td>3.470954e+00</td>\n",
       "      <td>8.790976e+00</td>\n",
       "      <td>8.561176e-01</td>\n",
       "      <td>4.731351e+18</td>\n",
       "      <td>2.504095e+03</td>\n",
       "      <td>4.759894e+01</td>\n",
       "      <td>2.851758e+04</td>\n",
       "      <td>8.973669e+02</td>\n",
       "      <td>8.012359e-01</td>\n",
       "      <td>3.405613e-02</td>\n",
       "    </tr>\n",
       "    <tr>\n",
       "      <th>min</th>\n",
       "      <td>0.000000e+00</td>\n",
       "      <td>0.000000e+00</td>\n",
       "      <td>1.995000e+03</td>\n",
       "      <td>1.000000e+00</td>\n",
       "      <td>1.000000e+00</td>\n",
       "      <td>0.000000e+00</td>\n",
       "      <td>-9.222265e+18</td>\n",
       "      <td>0.000000e+00</td>\n",
       "      <td>0.000000e+00</td>\n",
       "      <td>1.001000e+03</td>\n",
       "      <td>1.711000e+03</td>\n",
       "      <td>0.000000e+00</td>\n",
       "      <td>0.000000e+00</td>\n",
       "    </tr>\n",
       "    <tr>\n",
       "      <th>25%</th>\n",
       "      <td>4.800000e+01</td>\n",
       "      <td>0.000000e+00</td>\n",
       "      <td>2.008000e+03</td>\n",
       "      <td>3.000000e+00</td>\n",
       "      <td>8.000000e+00</td>\n",
       "      <td>1.000000e+00</td>\n",
       "      <td>-4.693980e+18</td>\n",
       "      <td>1.024000e+03</td>\n",
       "      <td>3.400000e+01</td>\n",
       "      <td>3.053500e+04</td>\n",
       "      <td>5.300000e+03</td>\n",
       "      <td>2.000000e+01</td>\n",
       "      <td>0.000000e+00</td>\n",
       "    </tr>\n",
       "    <tr>\n",
       "      <th>50%</th>\n",
       "      <td>1.010000e+02</td>\n",
       "      <td>1.000000e+00</td>\n",
       "      <td>2.012000e+03</td>\n",
       "      <td>7.000000e+00</td>\n",
       "      <td>1.600000e+01</td>\n",
       "      <td>2.000000e+00</td>\n",
       "      <td>-9.844448e+17</td>\n",
       "      <td>3.514000e+03</td>\n",
       "      <td>7.200000e+01</td>\n",
       "      <td>4.837500e+04</td>\n",
       "      <td>5.499000e+03</td>\n",
       "      <td>2.000000e+01</td>\n",
       "      <td>0.000000e+00</td>\n",
       "    </tr>\n",
       "    <tr>\n",
       "      <th>75%</th>\n",
       "      <td>1.560000e+02</td>\n",
       "      <td>2.000000e+00</td>\n",
       "      <td>2.016000e+03</td>\n",
       "      <td>1.000000e+01</td>\n",
       "      <td>2.300000e+01</td>\n",
       "      <td>2.000000e+00</td>\n",
       "      <td>3.102660e+18</td>\n",
       "      <td>5.514000e+03</td>\n",
       "      <td>1.250000e+02</td>\n",
       "      <td>7.863300e+04</td>\n",
       "      <td>5.813000e+03</td>\n",
       "      <td>2.000000e+01</td>\n",
       "      <td>0.000000e+00</td>\n",
       "    </tr>\n",
       "    <tr>\n",
       "      <th>max</th>\n",
       "      <td>2.150000e+02</td>\n",
       "      <td>8.000000e+00</td>\n",
       "      <td>2.020000e+03</td>\n",
       "      <td>1.200000e+01</td>\n",
       "      <td>3.100000e+01</td>\n",
       "      <td>3.000000e+00</td>\n",
       "      <td>9.222877e+18</td>\n",
       "      <td>7.901000e+03</td>\n",
       "      <td>1.440000e+02</td>\n",
       "      <td>9.992800e+04</td>\n",
       "      <td>9.402000e+03</td>\n",
       "      <td>2.000000e+01</td>\n",
       "      <td>2.000000e+00</td>\n",
       "    </tr>\n",
       "  </tbody>\n",
       "</table>\n",
       "</div>"
      ],
      "text/plain": [
       "               User          Card          Year         Month           Day  \\\n",
       "count  2.555190e+06  2.555190e+06  2.555190e+06  2.555190e+06  2.555190e+06   \n",
       "mean   1.020676e+02  1.238151e+00  2.011793e+03  6.520146e+00  1.571605e+01   \n",
       "std    6.215434e+01  1.344876e+00  5.150918e+00  3.470954e+00  8.790976e+00   \n",
       "min    0.000000e+00  0.000000e+00  1.995000e+03  1.000000e+00  1.000000e+00   \n",
       "25%    4.800000e+01  0.000000e+00  2.008000e+03  3.000000e+00  8.000000e+00   \n",
       "50%    1.010000e+02  1.000000e+00  2.012000e+03  7.000000e+00  1.600000e+01   \n",
       "75%    1.560000e+02  2.000000e+00  2.016000e+03  1.000000e+01  2.300000e+01   \n",
       "max    2.150000e+02  8.000000e+00  2.020000e+03  1.200000e+01  3.100000e+01   \n",
       "\n",
       "           Use Chip  Merchant Name  Merchant City  Merchant State  \\\n",
       "count  2.555190e+06   2.555189e+06   2.555190e+06    2.555190e+06   \n",
       "mean   1.376472e+00  -5.783186e+17   3.425711e+03    7.723729e+01   \n",
       "std    8.561176e-01   4.731351e+18   2.504095e+03    4.759894e+01   \n",
       "min    0.000000e+00  -9.222265e+18   0.000000e+00    0.000000e+00   \n",
       "25%    1.000000e+00  -4.693980e+18   1.024000e+03    3.400000e+01   \n",
       "50%    2.000000e+00  -9.844448e+17   3.514000e+03    7.200000e+01   \n",
       "75%    2.000000e+00   3.102660e+18   5.514000e+03    1.250000e+02   \n",
       "max    3.000000e+00   9.222877e+18   7.901000e+03    1.440000e+02   \n",
       "\n",
       "                Zip           MCC       Errors?     Is Fraud?  \n",
       "count  2.216985e+06  2.555189e+06  2.555190e+06  2.555190e+06  \n",
       "mean   5.306903e+04  5.563812e+03  1.992643e+01  1.160383e-03  \n",
       "std    2.851758e+04  8.973669e+02  8.012359e-01  3.405613e-02  \n",
       "min    1.001000e+03  1.711000e+03  0.000000e+00  0.000000e+00  \n",
       "25%    3.053500e+04  5.300000e+03  2.000000e+01  0.000000e+00  \n",
       "50%    4.837500e+04  5.499000e+03  2.000000e+01  0.000000e+00  \n",
       "75%    7.863300e+04  5.813000e+03  2.000000e+01  0.000000e+00  \n",
       "max    9.992800e+04  9.402000e+03  2.000000e+01  2.000000e+00  "
      ]
     },
     "execution_count": 6,
     "metadata": {},
     "output_type": "execute_result"
    }
   ],
   "source": [
    "df.describe()"
   ]
  },
  {
   "cell_type": "code",
   "execution_count": 7,
   "id": "59caee52-1947-4aef-8a6d-8cea4c6a9cc5",
   "metadata": {},
   "outputs": [],
   "source": [
    "df['Amount'] = df['Amount'].str.replace('$', '').astype('float')"
   ]
  },
  {
   "cell_type": "code",
   "execution_count": 8,
   "id": "67d3edae-f5ca-4a02-8ace-fb95412280ac",
   "metadata": {},
   "outputs": [],
   "source": [
    "df['Time'] = df['Time'].str[0:2].astype('float')*100+df['Time'].str[-2:].astype('float')"
   ]
  },
  {
   "cell_type": "code",
   "execution_count": 9,
   "id": "5ce113bf-c776-4b7d-84fc-7c9b35d6361d",
   "metadata": {},
   "outputs": [
    {
     "data": {
      "text/plain": [
       "False"
      ]
     },
     "execution_count": 9,
     "metadata": {},
     "output_type": "execute_result"
    }
   ],
   "source": [
    "df = df.fillna(df.mean())\n",
    "df.isnull().values.any()"
   ]
  },
  {
   "cell_type": "code",
   "execution_count": 10,
   "id": "8f935e13-a938-4816-ad2a-8de469d8c5af",
   "metadata": {},
   "outputs": [
    {
     "data": {
      "text/html": [
       "<div>\n",
       "<style scoped>\n",
       "    .dataframe tbody tr th:only-of-type {\n",
       "        vertical-align: middle;\n",
       "    }\n",
       "\n",
       "    .dataframe tbody tr th {\n",
       "        vertical-align: top;\n",
       "    }\n",
       "\n",
       "    .dataframe thead th {\n",
       "        text-align: right;\n",
       "    }\n",
       "</style>\n",
       "<table border=\"1\" class=\"dataframe\">\n",
       "  <thead>\n",
       "    <tr style=\"text-align: right;\">\n",
       "      <th></th>\n",
       "      <th>User</th>\n",
       "      <th>Card</th>\n",
       "      <th>Year</th>\n",
       "      <th>Month</th>\n",
       "      <th>Day</th>\n",
       "      <th>Time</th>\n",
       "      <th>Amount</th>\n",
       "      <th>Use Chip</th>\n",
       "      <th>Merchant Name</th>\n",
       "      <th>Merchant City</th>\n",
       "      <th>Merchant State</th>\n",
       "      <th>Zip</th>\n",
       "      <th>MCC</th>\n",
       "      <th>Errors?</th>\n",
       "      <th>Is Fraud?</th>\n",
       "    </tr>\n",
       "  </thead>\n",
       "  <tbody>\n",
       "    <tr>\n",
       "      <th>count</th>\n",
       "      <td>2.555190e+06</td>\n",
       "      <td>2.555190e+06</td>\n",
       "      <td>2.555190e+06</td>\n",
       "      <td>2.555190e+06</td>\n",
       "      <td>2.555190e+06</td>\n",
       "      <td>2.555190e+06</td>\n",
       "      <td>2.555190e+06</td>\n",
       "      <td>2.555190e+06</td>\n",
       "      <td>2.555190e+06</td>\n",
       "      <td>2.555190e+06</td>\n",
       "      <td>2.555190e+06</td>\n",
       "      <td>2.555190e+06</td>\n",
       "      <td>2.555190e+06</td>\n",
       "      <td>2.555190e+06</td>\n",
       "      <td>2.555190e+06</td>\n",
       "    </tr>\n",
       "    <tr>\n",
       "      <th>mean</th>\n",
       "      <td>1.020676e+02</td>\n",
       "      <td>1.238151e+00</td>\n",
       "      <td>2.011793e+03</td>\n",
       "      <td>6.520146e+00</td>\n",
       "      <td>1.571605e+01</td>\n",
       "      <td>1.271457e+03</td>\n",
       "      <td>4.435479e+01</td>\n",
       "      <td>1.376472e+00</td>\n",
       "      <td>-5.783186e+17</td>\n",
       "      <td>3.425711e+03</td>\n",
       "      <td>7.723729e+01</td>\n",
       "      <td>5.306903e+04</td>\n",
       "      <td>5.563812e+03</td>\n",
       "      <td>1.992643e+01</td>\n",
       "      <td>1.160383e-03</td>\n",
       "    </tr>\n",
       "    <tr>\n",
       "      <th>std</th>\n",
       "      <td>6.215434e+01</td>\n",
       "      <td>1.344876e+00</td>\n",
       "      <td>5.150918e+00</td>\n",
       "      <td>3.470954e+00</td>\n",
       "      <td>8.790976e+00</td>\n",
       "      <td>5.118691e+02</td>\n",
       "      <td>8.388415e+01</td>\n",
       "      <td>8.561176e-01</td>\n",
       "      <td>4.731350e+18</td>\n",
       "      <td>2.504095e+03</td>\n",
       "      <td>4.759894e+01</td>\n",
       "      <td>2.656332e+04</td>\n",
       "      <td>8.973668e+02</td>\n",
       "      <td>8.012359e-01</td>\n",
       "      <td>3.405613e-02</td>\n",
       "    </tr>\n",
       "    <tr>\n",
       "      <th>min</th>\n",
       "      <td>0.000000e+00</td>\n",
       "      <td>0.000000e+00</td>\n",
       "      <td>1.995000e+03</td>\n",
       "      <td>1.000000e+00</td>\n",
       "      <td>1.000000e+00</td>\n",
       "      <td>0.000000e+00</td>\n",
       "      <td>-5.000000e+02</td>\n",
       "      <td>0.000000e+00</td>\n",
       "      <td>-9.222265e+18</td>\n",
       "      <td>0.000000e+00</td>\n",
       "      <td>0.000000e+00</td>\n",
       "      <td>1.001000e+03</td>\n",
       "      <td>1.711000e+03</td>\n",
       "      <td>0.000000e+00</td>\n",
       "      <td>0.000000e+00</td>\n",
       "    </tr>\n",
       "    <tr>\n",
       "      <th>25%</th>\n",
       "      <td>4.800000e+01</td>\n",
       "      <td>0.000000e+00</td>\n",
       "      <td>2.008000e+03</td>\n",
       "      <td>3.000000e+00</td>\n",
       "      <td>8.000000e+00</td>\n",
       "      <td>8.580000e+02</td>\n",
       "      <td>9.520000e+00</td>\n",
       "      <td>1.000000e+00</td>\n",
       "      <td>-4.693980e+18</td>\n",
       "      <td>1.024000e+03</td>\n",
       "      <td>3.400000e+01</td>\n",
       "      <td>3.290700e+04</td>\n",
       "      <td>5.300000e+03</td>\n",
       "      <td>2.000000e+01</td>\n",
       "      <td>0.000000e+00</td>\n",
       "    </tr>\n",
       "    <tr>\n",
       "      <th>50%</th>\n",
       "      <td>1.010000e+02</td>\n",
       "      <td>1.000000e+00</td>\n",
       "      <td>2.012000e+03</td>\n",
       "      <td>7.000000e+00</td>\n",
       "      <td>1.600000e+01</td>\n",
       "      <td>1.242000e+03</td>\n",
       "      <td>2.992000e+01</td>\n",
       "      <td>2.000000e+00</td>\n",
       "      <td>-9.844448e+17</td>\n",
       "      <td>3.514000e+03</td>\n",
       "      <td>7.200000e+01</td>\n",
       "      <td>5.306903e+04</td>\n",
       "      <td>5.499000e+03</td>\n",
       "      <td>2.000000e+01</td>\n",
       "      <td>0.000000e+00</td>\n",
       "    </tr>\n",
       "    <tr>\n",
       "      <th>75%</th>\n",
       "      <td>1.560000e+02</td>\n",
       "      <td>2.000000e+00</td>\n",
       "      <td>2.016000e+03</td>\n",
       "      <td>1.000000e+01</td>\n",
       "      <td>2.300000e+01</td>\n",
       "      <td>1.629000e+03</td>\n",
       "      <td>6.442000e+01</td>\n",
       "      <td>2.000000e+00</td>\n",
       "      <td>3.102660e+18</td>\n",
       "      <td>5.514000e+03</td>\n",
       "      <td>1.250000e+02</td>\n",
       "      <td>7.705600e+04</td>\n",
       "      <td>5.813000e+03</td>\n",
       "      <td>2.000000e+01</td>\n",
       "      <td>0.000000e+00</td>\n",
       "    </tr>\n",
       "    <tr>\n",
       "      <th>max</th>\n",
       "      <td>2.150000e+02</td>\n",
       "      <td>8.000000e+00</td>\n",
       "      <td>2.020000e+03</td>\n",
       "      <td>1.200000e+01</td>\n",
       "      <td>3.100000e+01</td>\n",
       "      <td>2.359000e+03</td>\n",
       "      <td>6.820200e+03</td>\n",
       "      <td>3.000000e+00</td>\n",
       "      <td>9.222877e+18</td>\n",
       "      <td>7.901000e+03</td>\n",
       "      <td>1.440000e+02</td>\n",
       "      <td>9.992800e+04</td>\n",
       "      <td>9.402000e+03</td>\n",
       "      <td>2.000000e+01</td>\n",
       "      <td>2.000000e+00</td>\n",
       "    </tr>\n",
       "  </tbody>\n",
       "</table>\n",
       "</div>"
      ],
      "text/plain": [
       "               User          Card          Year         Month           Day  \\\n",
       "count  2.555190e+06  2.555190e+06  2.555190e+06  2.555190e+06  2.555190e+06   \n",
       "mean   1.020676e+02  1.238151e+00  2.011793e+03  6.520146e+00  1.571605e+01   \n",
       "std    6.215434e+01  1.344876e+00  5.150918e+00  3.470954e+00  8.790976e+00   \n",
       "min    0.000000e+00  0.000000e+00  1.995000e+03  1.000000e+00  1.000000e+00   \n",
       "25%    4.800000e+01  0.000000e+00  2.008000e+03  3.000000e+00  8.000000e+00   \n",
       "50%    1.010000e+02  1.000000e+00  2.012000e+03  7.000000e+00  1.600000e+01   \n",
       "75%    1.560000e+02  2.000000e+00  2.016000e+03  1.000000e+01  2.300000e+01   \n",
       "max    2.150000e+02  8.000000e+00  2.020000e+03  1.200000e+01  3.100000e+01   \n",
       "\n",
       "               Time        Amount      Use Chip  Merchant Name  Merchant City  \\\n",
       "count  2.555190e+06  2.555190e+06  2.555190e+06   2.555190e+06   2.555190e+06   \n",
       "mean   1.271457e+03  4.435479e+01  1.376472e+00  -5.783186e+17   3.425711e+03   \n",
       "std    5.118691e+02  8.388415e+01  8.561176e-01   4.731350e+18   2.504095e+03   \n",
       "min    0.000000e+00 -5.000000e+02  0.000000e+00  -9.222265e+18   0.000000e+00   \n",
       "25%    8.580000e+02  9.520000e+00  1.000000e+00  -4.693980e+18   1.024000e+03   \n",
       "50%    1.242000e+03  2.992000e+01  2.000000e+00  -9.844448e+17   3.514000e+03   \n",
       "75%    1.629000e+03  6.442000e+01  2.000000e+00   3.102660e+18   5.514000e+03   \n",
       "max    2.359000e+03  6.820200e+03  3.000000e+00   9.222877e+18   7.901000e+03   \n",
       "\n",
       "       Merchant State           Zip           MCC       Errors?     Is Fraud?  \n",
       "count    2.555190e+06  2.555190e+06  2.555190e+06  2.555190e+06  2.555190e+06  \n",
       "mean     7.723729e+01  5.306903e+04  5.563812e+03  1.992643e+01  1.160383e-03  \n",
       "std      4.759894e+01  2.656332e+04  8.973668e+02  8.012359e-01  3.405613e-02  \n",
       "min      0.000000e+00  1.001000e+03  1.711000e+03  0.000000e+00  0.000000e+00  \n",
       "25%      3.400000e+01  3.290700e+04  5.300000e+03  2.000000e+01  0.000000e+00  \n",
       "50%      7.200000e+01  5.306903e+04  5.499000e+03  2.000000e+01  0.000000e+00  \n",
       "75%      1.250000e+02  7.705600e+04  5.813000e+03  2.000000e+01  0.000000e+00  \n",
       "max      1.440000e+02  9.992800e+04  9.402000e+03  2.000000e+01  2.000000e+00  "
      ]
     },
     "execution_count": 10,
     "metadata": {},
     "output_type": "execute_result"
    }
   ],
   "source": [
    "df.describe()"
   ]
  },
  {
   "cell_type": "code",
   "execution_count": 11,
   "id": "ee75652a-4eef-4de8-8b7c-f7eb5d767a94",
   "metadata": {},
   "outputs": [
    {
     "data": {
      "text/html": [
       "<div>\n",
       "<style scoped>\n",
       "    .dataframe tbody tr th:only-of-type {\n",
       "        vertical-align: middle;\n",
       "    }\n",
       "\n",
       "    .dataframe tbody tr th {\n",
       "        vertical-align: top;\n",
       "    }\n",
       "\n",
       "    .dataframe thead th {\n",
       "        text-align: right;\n",
       "    }\n",
       "</style>\n",
       "<table border=\"1\" class=\"dataframe\">\n",
       "  <thead>\n",
       "    <tr style=\"text-align: right;\">\n",
       "      <th></th>\n",
       "      <th>User</th>\n",
       "      <th>Card</th>\n",
       "      <th>Year</th>\n",
       "      <th>Month</th>\n",
       "      <th>Day</th>\n",
       "      <th>Time</th>\n",
       "      <th>Amount</th>\n",
       "      <th>Use Chip</th>\n",
       "      <th>Merchant Name</th>\n",
       "      <th>Merchant City</th>\n",
       "      <th>Merchant State</th>\n",
       "      <th>Zip</th>\n",
       "      <th>MCC</th>\n",
       "      <th>Errors?</th>\n",
       "      <th>Is Fraud?</th>\n",
       "    </tr>\n",
       "  </thead>\n",
       "  <tbody>\n",
       "    <tr>\n",
       "      <th>0</th>\n",
       "      <td>0</td>\n",
       "      <td>0</td>\n",
       "      <td>2002</td>\n",
       "      <td>9</td>\n",
       "      <td>1</td>\n",
       "      <td>621.0</td>\n",
       "      <td>134.09</td>\n",
       "      <td>2</td>\n",
       "      <td>3.527213e+18</td>\n",
       "      <td>3696</td>\n",
       "      <td>16</td>\n",
       "      <td>91750.0</td>\n",
       "      <td>5300.0</td>\n",
       "      <td>20</td>\n",
       "      <td>0</td>\n",
       "    </tr>\n",
       "    <tr>\n",
       "      <th>1</th>\n",
       "      <td>0</td>\n",
       "      <td>0</td>\n",
       "      <td>2002</td>\n",
       "      <td>9</td>\n",
       "      <td>1</td>\n",
       "      <td>642.0</td>\n",
       "      <td>38.48</td>\n",
       "      <td>2</td>\n",
       "      <td>-7.276121e+17</td>\n",
       "      <td>4600</td>\n",
       "      <td>16</td>\n",
       "      <td>91754.0</td>\n",
       "      <td>5411.0</td>\n",
       "      <td>20</td>\n",
       "      <td>0</td>\n",
       "    </tr>\n",
       "    <tr>\n",
       "      <th>2</th>\n",
       "      <td>0</td>\n",
       "      <td>0</td>\n",
       "      <td>2002</td>\n",
       "      <td>9</td>\n",
       "      <td>2</td>\n",
       "      <td>622.0</td>\n",
       "      <td>120.34</td>\n",
       "      <td>2</td>\n",
       "      <td>-7.276121e+17</td>\n",
       "      <td>4600</td>\n",
       "      <td>16</td>\n",
       "      <td>91754.0</td>\n",
       "      <td>5411.0</td>\n",
       "      <td>20</td>\n",
       "      <td>0</td>\n",
       "    </tr>\n",
       "    <tr>\n",
       "      <th>3</th>\n",
       "      <td>0</td>\n",
       "      <td>0</td>\n",
       "      <td>2002</td>\n",
       "      <td>9</td>\n",
       "      <td>2</td>\n",
       "      <td>1745.0</td>\n",
       "      <td>128.95</td>\n",
       "      <td>2</td>\n",
       "      <td>3.414527e+18</td>\n",
       "      <td>4600</td>\n",
       "      <td>16</td>\n",
       "      <td>91754.0</td>\n",
       "      <td>5651.0</td>\n",
       "      <td>20</td>\n",
       "      <td>0</td>\n",
       "    </tr>\n",
       "    <tr>\n",
       "      <th>4</th>\n",
       "      <td>0</td>\n",
       "      <td>0</td>\n",
       "      <td>2002</td>\n",
       "      <td>9</td>\n",
       "      <td>3</td>\n",
       "      <td>623.0</td>\n",
       "      <td>104.71</td>\n",
       "      <td>2</td>\n",
       "      <td>5.817218e+18</td>\n",
       "      <td>3696</td>\n",
       "      <td>16</td>\n",
       "      <td>91750.0</td>\n",
       "      <td>5912.0</td>\n",
       "      <td>20</td>\n",
       "      <td>0</td>\n",
       "    </tr>\n",
       "  </tbody>\n",
       "</table>\n",
       "</div>"
      ],
      "text/plain": [
       "   User  Card  Year  Month  Day    Time  Amount  Use Chip  Merchant Name  \\\n",
       "0     0     0  2002      9    1   621.0  134.09         2   3.527213e+18   \n",
       "1     0     0  2002      9    1   642.0   38.48         2  -7.276121e+17   \n",
       "2     0     0  2002      9    2   622.0  120.34         2  -7.276121e+17   \n",
       "3     0     0  2002      9    2  1745.0  128.95         2   3.414527e+18   \n",
       "4     0     0  2002      9    3   623.0  104.71         2   5.817218e+18   \n",
       "\n",
       "   Merchant City  Merchant State      Zip     MCC  Errors?  Is Fraud?  \n",
       "0           3696              16  91750.0  5300.0       20          0  \n",
       "1           4600              16  91754.0  5411.0       20          0  \n",
       "2           4600              16  91754.0  5411.0       20          0  \n",
       "3           4600              16  91754.0  5651.0       20          0  \n",
       "4           3696              16  91750.0  5912.0       20          0  "
      ]
     },
     "execution_count": 11,
     "metadata": {},
     "output_type": "execute_result"
    }
   ],
   "source": [
    "df.head()"
   ]
  },
  {
   "cell_type": "code",
   "execution_count": 12,
   "id": "8472cff4-12b6-4f89-9604-86725b9fe1a5",
   "metadata": {},
   "outputs": [
    {
     "data": {
      "text/plain": [
       "(2555190, 15)"
      ]
     },
     "execution_count": 12,
     "metadata": {},
     "output_type": "execute_result"
    }
   ],
   "source": [
    "df.shape"
   ]
  },
  {
   "cell_type": "code",
   "execution_count": 13,
   "id": "b35525e6-135e-4539-819b-9848f451c756",
   "metadata": {},
   "outputs": [],
   "source": [
    "X_train, X_test = train_test_split(df, test_size=0.2, random_state=37)\n",
    "# Train on Normal (Is Fraud?=0)\n",
    "X_train = X_train[X_train['Is Fraud?'] == 0]\n",
    "# \"Is Fraud?\" variable is not needed\n",
    "X_train = X_train.drop(['Is Fraud?'], axis=1)\n",
    "# test data\n",
    "y_test = X_test['Is Fraud?']\n",
    "X_test = X_test.drop(['Is Fraud?'], axis=1)\n",
    "\n",
    "# Standardize data based on mean & sd of X_train\n",
    "mean = X_train.mean(axis=0)\n",
    "std = X_train.std(axis=0)\n",
    "X_train = (X_train - mean) / std\n",
    "X_test = (X_test - mean) / std\n",
    "\n",
    "# convert to numpy\n",
    "X_train = X_train.to_numpy()\n",
    "X_test = X_test.to_numpy()\n",
    "y_test = y_test.to_numpy()"
   ]
  },
  {
   "cell_type": "code",
   "execution_count": 14,
   "id": "f9f26a70-8c09-4489-b3ee-9b80b966acb6",
   "metadata": {},
   "outputs": [
    {
     "name": "stdout",
     "output_type": "stream",
     "text": [
      "[ 4.35516768e-18  4.72473924e-17  1.45003002e-14  1.01621739e-16\n",
      "  5.43586870e-17  1.08797413e-16 -7.01107177e-17 -1.47676376e-16\n",
      "  7.95796840e-17 -9.44251856e-17  1.22254411e-16  1.43064213e-15\n",
      "  3.14362023e-16 -3.68082138e-16]\n",
      "[0.99999976 0.99999976 0.99999976 0.99999976 0.99999976 0.99999976\n",
      " 0.99999976 0.99999976 0.99999976 0.99999976 0.99999976 0.99999976\n",
      " 0.99999976 0.99999976]\n",
      "[-0.00048366  0.0004101   0.00138234  0.00048147  0.00198597  0.00174\n",
      "  0.00218694 -0.00055135 -0.00057825  0.00133795 -0.00032453  0.0025515\n",
      " -0.0003227  -0.00043096]\n",
      "[1.0010628  1.00086164 0.99955381 0.99900668 1.00034196 0.99800348\n",
      " 0.99869769 0.9997464  0.99970644 1.00169642 1.00183564 1.00029952\n",
      " 0.99950067 0.99783266]\n"
     ]
    }
   ],
   "source": [
    "# check standardization of the data\n",
    "print(np.mean(X_train,axis=0))\n",
    "print(np.std(X_train,axis=0))\n",
    "print(np.mean(X_test,axis=0))\n",
    "print(np.std(X_test,axis=0))"
   ]
  },
  {
   "cell_type": "code",
   "execution_count": 34,
   "id": "65fd31e6-9163-45eb-914e-9896a53403d8",
   "metadata": {},
   "outputs": [
    {
     "name": "stdout",
     "output_type": "stream",
     "text": [
      "[[ 1.04492585e+00 -9.20649113e-01  8.17065759e-01 ... -9.35021464e-01\n",
      "   2.76202824e-01  9.16328832e-02]\n",
      " [-6.54657541e-02  1.31072047e+00 -3.47579643e-01 ... -7.53885842e-01\n",
      "  -7.26104629e-02  9.16328832e-02]\n",
      " [-8.15583861e-02 -9.20649113e-01 -3.47579643e-01 ...  5.01992073e-04\n",
      "  -7.41262131e-01  9.16328832e-02]\n",
      " ...\n",
      " [-4.51688921e-01  5.66930609e-01 -9.29902343e-01 ...  8.27070983e-01\n",
      "   1.85644960e+00  9.16328832e-02]\n",
      " [ 1.46333428e+00 -1.76859252e-01  8.17065759e-01 ...  5.01992073e-04\n",
      "  -1.60828046e+00  9.16328832e-02]\n",
      " [-8.37912088e-01  5.66930609e-01  6.22958192e-01 ... -1.83156213e-01\n",
      "  -3.48986486e-01  9.16328832e-02]]\n"
     ]
    }
   ],
   "source": [
    "print(X_train)"
   ]
  },
  {
   "cell_type": "code",
   "execution_count": 16,
   "id": "b8bf169c-7973-44c8-b128-052d01280c11",
   "metadata": {},
   "outputs": [
    {
     "name": "stderr",
     "output_type": "stream",
     "text": [
      "2024-05-01 20:43:39.401452: I tensorflow/core/util/port.cc:113] oneDNN custom operations are on. You may see slightly different numerical results due to floating-point round-off errors from different computation orders. To turn them off, set the environment variable `TF_ENABLE_ONEDNN_OPTS=0`.\n",
      "2024-05-01 20:43:39.682915: I tensorflow/core/platform/cpu_feature_guard.cc:210] This TensorFlow binary is optimized to use available CPU instructions in performance-critical operations.\n",
      "To enable the following instructions: AVX2 AVX512F AVX512_VNNI FMA, in other operations, rebuild TensorFlow with the appropriate compiler flags.\n",
      "2024-05-01 20:43:40.490690: W tensorflow/compiler/tf2tensorrt/utils/py_utils.cc:38] TF-TRT Warning: Could not find TensorRT\n"
     ]
    }
   ],
   "source": [
    "import tensorflow as tf\n",
    "from tensorflow.keras.layers import Input, Dense, Lambda\n",
    "from tensorflow.keras.models import Model\n",
    "from tensorflow.keras import backend as K\n",
    "from tensorflow.keras import metrics\n",
    "from tensorflow.keras import regularizers"
   ]
  },
  {
   "cell_type": "code",
   "execution_count": 17,
   "id": "169e9868-e768-49b5-8977-51b377854aad",
   "metadata": {},
   "outputs": [],
   "source": [
    "# defining the key parameters\n",
    "batch_size = 100\n",
    "original_dim = 14\n",
    "latent_dim = 2\n",
    "intermediate_dim = 7\n",
    "epochs = 10\n",
    "epsilon_std = 1.0"
   ]
  },
  {
   "cell_type": "code",
   "execution_count": 18,
   "id": "67a4ace5-6b73-4bd8-8840-9893bbf07afe",
   "metadata": {},
   "outputs": [],
   "source": [
    "# sampling from mean and sd in VAE\n",
    "def sampling(args: tuple):\n",
    "    # we grab the variables from the tuple\n",
    "    z_mean, z_log_var = args\n",
    "    epsilon = K.random_normal(shape=(K.shape(z_mean)[0], latent_dim), mean=0.,\n",
    "                              stddev=epsilon_std)\n",
    "    return z_mean + K.exp(z_log_var / 2) * epsilon"
   ]
  },
  {
   "cell_type": "code",
   "execution_count": 19,
   "id": "4b77a7b7-4f60-4daa-94a9-36a03409b5d4",
   "metadata": {},
   "outputs": [
    {
     "data": {
      "text/html": [
       "<pre style=\"white-space:pre;overflow-x:auto;line-height:normal;font-family:Menlo,'DejaVu Sans Mono',consolas,'Courier New',monospace\"><span style=\"font-weight: bold\">Model: \"encoder\"</span>\n",
       "</pre>\n"
      ],
      "text/plain": [
       "\u001b[1mModel: \"encoder\"\u001b[0m\n"
      ]
     },
     "metadata": {},
     "output_type": "display_data"
    },
    {
     "data": {
      "text/html": [
       "<pre style=\"white-space:pre;overflow-x:auto;line-height:normal;font-family:Menlo,'DejaVu Sans Mono',consolas,'Courier New',monospace\">┏━━━━━━━━━━━━━━━━━━━━━┳━━━━━━━━━━━━━━━━━━━┳━━━━━━━━━━━━┳━━━━━━━━━━━━━━━━━━━┓\n",
       "┃<span style=\"font-weight: bold\"> Layer (type)        </span>┃<span style=\"font-weight: bold\"> Output Shape      </span>┃<span style=\"font-weight: bold\">    Param # </span>┃<span style=\"font-weight: bold\"> Connected to      </span>┃\n",
       "┡━━━━━━━━━━━━━━━━━━━━━╇━━━━━━━━━━━━━━━━━━━╇━━━━━━━━━━━━╇━━━━━━━━━━━━━━━━━━━┩\n",
       "│ input (<span style=\"color: #0087ff; text-decoration-color: #0087ff\">InputLayer</span>)  │ (<span style=\"color: #00d7ff; text-decoration-color: #00d7ff\">None</span>, <span style=\"color: #00af00; text-decoration-color: #00af00\">14</span>)        │          <span style=\"color: #00af00; text-decoration-color: #00af00\">0</span> │ -                 │\n",
       "├─────────────────────┼───────────────────┼────────────┼───────────────────┤\n",
       "│ encoding (<span style=\"color: #0087ff; text-decoration-color: #0087ff\">Dense</span>)    │ (<span style=\"color: #00d7ff; text-decoration-color: #00d7ff\">None</span>, <span style=\"color: #00af00; text-decoration-color: #00af00\">7</span>)         │        <span style=\"color: #00af00; text-decoration-color: #00af00\">105</span> │ input[<span style=\"color: #00af00; text-decoration-color: #00af00\">0</span>][<span style=\"color: #00af00; text-decoration-color: #00af00\">0</span>]       │\n",
       "├─────────────────────┼───────────────────┼────────────┼───────────────────┤\n",
       "│ mean (<span style=\"color: #0087ff; text-decoration-color: #0087ff\">Dense</span>)        │ (<span style=\"color: #00d7ff; text-decoration-color: #00d7ff\">None</span>, <span style=\"color: #00af00; text-decoration-color: #00af00\">2</span>)         │         <span style=\"color: #00af00; text-decoration-color: #00af00\">16</span> │ encoding[<span style=\"color: #00af00; text-decoration-color: #00af00\">0</span>][<span style=\"color: #00af00; text-decoration-color: #00af00\">0</span>]    │\n",
       "├─────────────────────┼───────────────────┼────────────┼───────────────────┤\n",
       "│ log-variance        │ (<span style=\"color: #00d7ff; text-decoration-color: #00d7ff\">None</span>, <span style=\"color: #00af00; text-decoration-color: #00af00\">2</span>)         │         <span style=\"color: #00af00; text-decoration-color: #00af00\">16</span> │ encoding[<span style=\"color: #00af00; text-decoration-color: #00af00\">0</span>][<span style=\"color: #00af00; text-decoration-color: #00af00\">0</span>]    │\n",
       "│ (<span style=\"color: #0087ff; text-decoration-color: #0087ff\">Dense</span>)             │                   │            │                   │\n",
       "├─────────────────────┼───────────────────┼────────────┼───────────────────┤\n",
       "│ lambda (<span style=\"color: #0087ff; text-decoration-color: #0087ff\">Lambda</span>)     │ (<span style=\"color: #00d7ff; text-decoration-color: #00d7ff\">None</span>, <span style=\"color: #00af00; text-decoration-color: #00af00\">2</span>)         │          <span style=\"color: #00af00; text-decoration-color: #00af00\">0</span> │ mean[<span style=\"color: #00af00; text-decoration-color: #00af00\">0</span>][<span style=\"color: #00af00; text-decoration-color: #00af00\">0</span>],       │\n",
       "│                     │                   │            │ log-variance[<span style=\"color: #00af00; text-decoration-color: #00af00\">0</span>][<span style=\"color: #00af00; text-decoration-color: #00af00\">…</span> │\n",
       "└─────────────────────┴───────────────────┴────────────┴───────────────────┘\n",
       "</pre>\n"
      ],
      "text/plain": [
       "┏━━━━━━━━━━━━━━━━━━━━━┳━━━━━━━━━━━━━━━━━━━┳━━━━━━━━━━━━┳━━━━━━━━━━━━━━━━━━━┓\n",
       "┃\u001b[1m \u001b[0m\u001b[1mLayer (type)       \u001b[0m\u001b[1m \u001b[0m┃\u001b[1m \u001b[0m\u001b[1mOutput Shape     \u001b[0m\u001b[1m \u001b[0m┃\u001b[1m \u001b[0m\u001b[1m   Param #\u001b[0m\u001b[1m \u001b[0m┃\u001b[1m \u001b[0m\u001b[1mConnected to     \u001b[0m\u001b[1m \u001b[0m┃\n",
       "┡━━━━━━━━━━━━━━━━━━━━━╇━━━━━━━━━━━━━━━━━━━╇━━━━━━━━━━━━╇━━━━━━━━━━━━━━━━━━━┩\n",
       "│ input (\u001b[38;5;33mInputLayer\u001b[0m)  │ (\u001b[38;5;45mNone\u001b[0m, \u001b[38;5;34m14\u001b[0m)        │          \u001b[38;5;34m0\u001b[0m │ -                 │\n",
       "├─────────────────────┼───────────────────┼────────────┼───────────────────┤\n",
       "│ encoding (\u001b[38;5;33mDense\u001b[0m)    │ (\u001b[38;5;45mNone\u001b[0m, \u001b[38;5;34m7\u001b[0m)         │        \u001b[38;5;34m105\u001b[0m │ input[\u001b[38;5;34m0\u001b[0m][\u001b[38;5;34m0\u001b[0m]       │\n",
       "├─────────────────────┼───────────────────┼────────────┼───────────────────┤\n",
       "│ mean (\u001b[38;5;33mDense\u001b[0m)        │ (\u001b[38;5;45mNone\u001b[0m, \u001b[38;5;34m2\u001b[0m)         │         \u001b[38;5;34m16\u001b[0m │ encoding[\u001b[38;5;34m0\u001b[0m][\u001b[38;5;34m0\u001b[0m]    │\n",
       "├─────────────────────┼───────────────────┼────────────┼───────────────────┤\n",
       "│ log-variance        │ (\u001b[38;5;45mNone\u001b[0m, \u001b[38;5;34m2\u001b[0m)         │         \u001b[38;5;34m16\u001b[0m │ encoding[\u001b[38;5;34m0\u001b[0m][\u001b[38;5;34m0\u001b[0m]    │\n",
       "│ (\u001b[38;5;33mDense\u001b[0m)             │                   │            │                   │\n",
       "├─────────────────────┼───────────────────┼────────────┼───────────────────┤\n",
       "│ lambda (\u001b[38;5;33mLambda\u001b[0m)     │ (\u001b[38;5;45mNone\u001b[0m, \u001b[38;5;34m2\u001b[0m)         │          \u001b[38;5;34m0\u001b[0m │ mean[\u001b[38;5;34m0\u001b[0m][\u001b[38;5;34m0\u001b[0m],       │\n",
       "│                     │                   │            │ log-variance[\u001b[38;5;34m0\u001b[0m][\u001b[38;5;34m…\u001b[0m │\n",
       "└─────────────────────┴───────────────────┴────────────┴───────────────────┘\n"
      ]
     },
     "metadata": {},
     "output_type": "display_data"
    },
    {
     "data": {
      "text/html": [
       "<pre style=\"white-space:pre;overflow-x:auto;line-height:normal;font-family:Menlo,'DejaVu Sans Mono',consolas,'Courier New',monospace\"><span style=\"font-weight: bold\"> Total params: </span><span style=\"color: #00af00; text-decoration-color: #00af00\">137</span> (548.00 B)\n",
       "</pre>\n"
      ],
      "text/plain": [
       "\u001b[1m Total params: \u001b[0m\u001b[38;5;34m137\u001b[0m (548.00 B)\n"
      ]
     },
     "metadata": {},
     "output_type": "display_data"
    },
    {
     "data": {
      "text/html": [
       "<pre style=\"white-space:pre;overflow-x:auto;line-height:normal;font-family:Menlo,'DejaVu Sans Mono',consolas,'Courier New',monospace\"><span style=\"font-weight: bold\"> Trainable params: </span><span style=\"color: #00af00; text-decoration-color: #00af00\">137</span> (548.00 B)\n",
       "</pre>\n"
      ],
      "text/plain": [
       "\u001b[1m Trainable params: \u001b[0m\u001b[38;5;34m137\u001b[0m (548.00 B)\n"
      ]
     },
     "metadata": {},
     "output_type": "display_data"
    },
    {
     "data": {
      "text/html": [
       "<pre style=\"white-space:pre;overflow-x:auto;line-height:normal;font-family:Menlo,'DejaVu Sans Mono',consolas,'Courier New',monospace\"><span style=\"font-weight: bold\"> Non-trainable params: </span><span style=\"color: #00af00; text-decoration-color: #00af00\">0</span> (0.00 B)\n",
       "</pre>\n"
      ],
      "text/plain": [
       "\u001b[1m Non-trainable params: \u001b[0m\u001b[38;5;34m0\u001b[0m (0.00 B)\n"
      ]
     },
     "metadata": {},
     "output_type": "display_data"
    }
   ],
   "source": [
    "x = Input(shape=(original_dim,), name=\"input\")\n",
    "h = Dense(intermediate_dim, activation='relu', name=\"encoding\")(x)\n",
    "z_mean = Dense(latent_dim, name=\"mean\")(h)\n",
    "z_log_var = Dense(latent_dim, name=\"log-variance\")(h)\n",
    "# note that \"output_shape\" isn't necessary with the TensorFlow backend\n",
    "z = Lambda(sampling, output_shape=(latent_dim,))([z_mean, z_log_var])\n",
    "# defining the encoder as a keras model\n",
    "encoder = Model(x, [z_mean, z_log_var, z], name=\"encoder\")\n",
    "# print out summary of what we just did\n",
    "encoder.summary()"
   ]
  },
  {
   "cell_type": "code",
   "execution_count": 20,
   "id": "c9cdc0ad-5702-4035-a012-f5cdd2e2111e",
   "metadata": {},
   "outputs": [
    {
     "data": {
      "text/html": [
       "<pre style=\"white-space:pre;overflow-x:auto;line-height:normal;font-family:Menlo,'DejaVu Sans Mono',consolas,'Courier New',monospace\"><span style=\"font-weight: bold\">Model: \"decoder\"</span>\n",
       "</pre>\n"
      ],
      "text/plain": [
       "\u001b[1mModel: \"decoder\"\u001b[0m\n"
      ]
     },
     "metadata": {},
     "output_type": "display_data"
    },
    {
     "data": {
      "text/html": [
       "<pre style=\"white-space:pre;overflow-x:auto;line-height:normal;font-family:Menlo,'DejaVu Sans Mono',consolas,'Courier New',monospace\">┏━━━━━━━━━━━━━━━━━━━━━━━━━━━━━━━━━┳━━━━━━━━━━━━━━━━━━━━━━━━┳━━━━━━━━━━━━━━━┓\n",
       "┃<span style=\"font-weight: bold\"> Layer (type)                    </span>┃<span style=\"font-weight: bold\"> Output Shape           </span>┃<span style=\"font-weight: bold\">       Param # </span>┃\n",
       "┡━━━━━━━━━━━━━━━━━━━━━━━━━━━━━━━━━╇━━━━━━━━━━━━━━━━━━━━━━━━╇━━━━━━━━━━━━━━━┩\n",
       "│ decoder_input (<span style=\"color: #0087ff; text-decoration-color: #0087ff\">InputLayer</span>)      │ (<span style=\"color: #00d7ff; text-decoration-color: #00d7ff\">None</span>, <span style=\"color: #00af00; text-decoration-color: #00af00\">2</span>)              │             <span style=\"color: #00af00; text-decoration-color: #00af00\">0</span> │\n",
       "├─────────────────────────────────┼────────────────────────┼───────────────┤\n",
       "│ decoder_h (<span style=\"color: #0087ff; text-decoration-color: #0087ff\">Dense</span>)               │ (<span style=\"color: #00d7ff; text-decoration-color: #00d7ff\">None</span>, <span style=\"color: #00af00; text-decoration-color: #00af00\">7</span>)              │            <span style=\"color: #00af00; text-decoration-color: #00af00\">21</span> │\n",
       "├─────────────────────────────────┼────────────────────────┼───────────────┤\n",
       "│ flat_decoded (<span style=\"color: #0087ff; text-decoration-color: #0087ff\">Dense</span>)            │ (<span style=\"color: #00d7ff; text-decoration-color: #00d7ff\">None</span>, <span style=\"color: #00af00; text-decoration-color: #00af00\">14</span>)             │           <span style=\"color: #00af00; text-decoration-color: #00af00\">112</span> │\n",
       "└─────────────────────────────────┴────────────────────────┴───────────────┘\n",
       "</pre>\n"
      ],
      "text/plain": [
       "┏━━━━━━━━━━━━━━━━━━━━━━━━━━━━━━━━━┳━━━━━━━━━━━━━━━━━━━━━━━━┳━━━━━━━━━━━━━━━┓\n",
       "┃\u001b[1m \u001b[0m\u001b[1mLayer (type)                   \u001b[0m\u001b[1m \u001b[0m┃\u001b[1m \u001b[0m\u001b[1mOutput Shape          \u001b[0m\u001b[1m \u001b[0m┃\u001b[1m \u001b[0m\u001b[1m      Param #\u001b[0m\u001b[1m \u001b[0m┃\n",
       "┡━━━━━━━━━━━━━━━━━━━━━━━━━━━━━━━━━╇━━━━━━━━━━━━━━━━━━━━━━━━╇━━━━━━━━━━━━━━━┩\n",
       "│ decoder_input (\u001b[38;5;33mInputLayer\u001b[0m)      │ (\u001b[38;5;45mNone\u001b[0m, \u001b[38;5;34m2\u001b[0m)              │             \u001b[38;5;34m0\u001b[0m │\n",
       "├─────────────────────────────────┼────────────────────────┼───────────────┤\n",
       "│ decoder_h (\u001b[38;5;33mDense\u001b[0m)               │ (\u001b[38;5;45mNone\u001b[0m, \u001b[38;5;34m7\u001b[0m)              │            \u001b[38;5;34m21\u001b[0m │\n",
       "├─────────────────────────────────┼────────────────────────┼───────────────┤\n",
       "│ flat_decoded (\u001b[38;5;33mDense\u001b[0m)            │ (\u001b[38;5;45mNone\u001b[0m, \u001b[38;5;34m14\u001b[0m)             │           \u001b[38;5;34m112\u001b[0m │\n",
       "└─────────────────────────────────┴────────────────────────┴───────────────┘\n"
      ]
     },
     "metadata": {},
     "output_type": "display_data"
    },
    {
     "data": {
      "text/html": [
       "<pre style=\"white-space:pre;overflow-x:auto;line-height:normal;font-family:Menlo,'DejaVu Sans Mono',consolas,'Courier New',monospace\"><span style=\"font-weight: bold\"> Total params: </span><span style=\"color: #00af00; text-decoration-color: #00af00\">133</span> (532.00 B)\n",
       "</pre>\n"
      ],
      "text/plain": [
       "\u001b[1m Total params: \u001b[0m\u001b[38;5;34m133\u001b[0m (532.00 B)\n"
      ]
     },
     "metadata": {},
     "output_type": "display_data"
    },
    {
     "data": {
      "text/html": [
       "<pre style=\"white-space:pre;overflow-x:auto;line-height:normal;font-family:Menlo,'DejaVu Sans Mono',consolas,'Courier New',monospace\"><span style=\"font-weight: bold\"> Trainable params: </span><span style=\"color: #00af00; text-decoration-color: #00af00\">133</span> (532.00 B)\n",
       "</pre>\n"
      ],
      "text/plain": [
       "\u001b[1m Trainable params: \u001b[0m\u001b[38;5;34m133\u001b[0m (532.00 B)\n"
      ]
     },
     "metadata": {},
     "output_type": "display_data"
    },
    {
     "data": {
      "text/html": [
       "<pre style=\"white-space:pre;overflow-x:auto;line-height:normal;font-family:Menlo,'DejaVu Sans Mono',consolas,'Courier New',monospace\"><span style=\"font-weight: bold\"> Non-trainable params: </span><span style=\"color: #00af00; text-decoration-color: #00af00\">0</span> (0.00 B)\n",
       "</pre>\n"
      ],
      "text/plain": [
       "\u001b[1m Non-trainable params: \u001b[0m\u001b[38;5;34m0\u001b[0m (0.00 B)\n"
      ]
     },
     "metadata": {},
     "output_type": "display_data"
    }
   ],
   "source": [
    "input_decoder = Input(shape=(latent_dim,), name=\"decoder_input\")\n",
    "# taking the latent space to intermediate dimension\n",
    "decoder_h = Dense(intermediate_dim, activation='relu', name=\"decoder_h\")(input_decoder)\n",
    "# getting the mean from the original dimension\n",
    "x_decoded = Dense(original_dim, activation='sigmoid', name=\"flat_decoded\")(decoder_h)\n",
    "# defining the decoder as a keras model\n",
    "decoder = Model(input_decoder, x_decoded, name=\"decoder\")\n",
    "decoder.summary()"
   ]
  },
  {
   "cell_type": "code",
   "execution_count": 21,
   "id": "628d641d-ace0-46db-a01d-09f90adafe33",
   "metadata": {},
   "outputs": [
    {
     "data": {
      "text/html": [
       "<pre style=\"white-space:pre;overflow-x:auto;line-height:normal;font-family:Menlo,'DejaVu Sans Mono',consolas,'Courier New',monospace\"><span style=\"font-weight: bold\">Model: \"functional_1\"</span>\n",
       "</pre>\n"
      ],
      "text/plain": [
       "\u001b[1mModel: \"functional_1\"\u001b[0m\n"
      ]
     },
     "metadata": {},
     "output_type": "display_data"
    },
    {
     "data": {
      "text/html": [
       "<pre style=\"white-space:pre;overflow-x:auto;line-height:normal;font-family:Menlo,'DejaVu Sans Mono',consolas,'Courier New',monospace\">┏━━━━━━━━━━━━━━━━━━━━━━━━━━━━━━━━━┳━━━━━━━━━━━━━━━━━━━━━━━━┳━━━━━━━━━━━━━━━┓\n",
       "┃<span style=\"font-weight: bold\"> Layer (type)                    </span>┃<span style=\"font-weight: bold\"> Output Shape           </span>┃<span style=\"font-weight: bold\">       Param # </span>┃\n",
       "┡━━━━━━━━━━━━━━━━━━━━━━━━━━━━━━━━━╇━━━━━━━━━━━━━━━━━━━━━━━━╇━━━━━━━━━━━━━━━┩\n",
       "│ input (<span style=\"color: #0087ff; text-decoration-color: #0087ff\">InputLayer</span>)              │ (<span style=\"color: #00d7ff; text-decoration-color: #00d7ff\">None</span>, <span style=\"color: #00af00; text-decoration-color: #00af00\">14</span>)             │             <span style=\"color: #00af00; text-decoration-color: #00af00\">0</span> │\n",
       "├─────────────────────────────────┼────────────────────────┼───────────────┤\n",
       "│ encoder (<span style=\"color: #0087ff; text-decoration-color: #0087ff\">Functional</span>)            │ [(<span style=\"color: #00d7ff; text-decoration-color: #00d7ff\">None</span>, <span style=\"color: #00af00; text-decoration-color: #00af00\">2</span>), (<span style=\"color: #00d7ff; text-decoration-color: #00d7ff\">None</span>, <span style=\"color: #00af00; text-decoration-color: #00af00\">2</span>), │           <span style=\"color: #00af00; text-decoration-color: #00af00\">137</span> │\n",
       "│                                 │ (<span style=\"color: #00d7ff; text-decoration-color: #00d7ff\">None</span>, <span style=\"color: #00af00; text-decoration-color: #00af00\">2</span>)]             │               │\n",
       "├─────────────────────────────────┼────────────────────────┼───────────────┤\n",
       "│ decoder (<span style=\"color: #0087ff; text-decoration-color: #0087ff\">Functional</span>)            │ (<span style=\"color: #00d7ff; text-decoration-color: #00d7ff\">None</span>, <span style=\"color: #00af00; text-decoration-color: #00af00\">14</span>)             │           <span style=\"color: #00af00; text-decoration-color: #00af00\">133</span> │\n",
       "└─────────────────────────────────┴────────────────────────┴───────────────┘\n",
       "</pre>\n"
      ],
      "text/plain": [
       "┏━━━━━━━━━━━━━━━━━━━━━━━━━━━━━━━━━┳━━━━━━━━━━━━━━━━━━━━━━━━┳━━━━━━━━━━━━━━━┓\n",
       "┃\u001b[1m \u001b[0m\u001b[1mLayer (type)                   \u001b[0m\u001b[1m \u001b[0m┃\u001b[1m \u001b[0m\u001b[1mOutput Shape          \u001b[0m\u001b[1m \u001b[0m┃\u001b[1m \u001b[0m\u001b[1m      Param #\u001b[0m\u001b[1m \u001b[0m┃\n",
       "┡━━━━━━━━━━━━━━━━━━━━━━━━━━━━━━━━━╇━━━━━━━━━━━━━━━━━━━━━━━━╇━━━━━━━━━━━━━━━┩\n",
       "│ input (\u001b[38;5;33mInputLayer\u001b[0m)              │ (\u001b[38;5;45mNone\u001b[0m, \u001b[38;5;34m14\u001b[0m)             │             \u001b[38;5;34m0\u001b[0m │\n",
       "├─────────────────────────────────┼────────────────────────┼───────────────┤\n",
       "│ encoder (\u001b[38;5;33mFunctional\u001b[0m)            │ [(\u001b[38;5;45mNone\u001b[0m, \u001b[38;5;34m2\u001b[0m), (\u001b[38;5;45mNone\u001b[0m, \u001b[38;5;34m2\u001b[0m), │           \u001b[38;5;34m137\u001b[0m │\n",
       "│                                 │ (\u001b[38;5;45mNone\u001b[0m, \u001b[38;5;34m2\u001b[0m)]             │               │\n",
       "├─────────────────────────────────┼────────────────────────┼───────────────┤\n",
       "│ decoder (\u001b[38;5;33mFunctional\u001b[0m)            │ (\u001b[38;5;45mNone\u001b[0m, \u001b[38;5;34m14\u001b[0m)             │           \u001b[38;5;34m133\u001b[0m │\n",
       "└─────────────────────────────────┴────────────────────────┴───────────────┘\n"
      ]
     },
     "metadata": {},
     "output_type": "display_data"
    },
    {
     "data": {
      "text/html": [
       "<pre style=\"white-space:pre;overflow-x:auto;line-height:normal;font-family:Menlo,'DejaVu Sans Mono',consolas,'Courier New',monospace\"><span style=\"font-weight: bold\"> Total params: </span><span style=\"color: #00af00; text-decoration-color: #00af00\">270</span> (1.05 KB)\n",
       "</pre>\n"
      ],
      "text/plain": [
       "\u001b[1m Total params: \u001b[0m\u001b[38;5;34m270\u001b[0m (1.05 KB)\n"
      ]
     },
     "metadata": {},
     "output_type": "display_data"
    },
    {
     "data": {
      "text/html": [
       "<pre style=\"white-space:pre;overflow-x:auto;line-height:normal;font-family:Menlo,'DejaVu Sans Mono',consolas,'Courier New',monospace\"><span style=\"font-weight: bold\"> Trainable params: </span><span style=\"color: #00af00; text-decoration-color: #00af00\">270</span> (1.05 KB)\n",
       "</pre>\n"
      ],
      "text/plain": [
       "\u001b[1m Trainable params: \u001b[0m\u001b[38;5;34m270\u001b[0m (1.05 KB)\n"
      ]
     },
     "metadata": {},
     "output_type": "display_data"
    },
    {
     "data": {
      "text/html": [
       "<pre style=\"white-space:pre;overflow-x:auto;line-height:normal;font-family:Menlo,'DejaVu Sans Mono',consolas,'Courier New',monospace\"><span style=\"font-weight: bold\"> Non-trainable params: </span><span style=\"color: #00af00; text-decoration-color: #00af00\">0</span> (0.00 B)\n",
       "</pre>\n"
      ],
      "text/plain": [
       "\u001b[1m Non-trainable params: \u001b[0m\u001b[38;5;34m0\u001b[0m (0.00 B)\n"
      ]
     },
     "metadata": {},
     "output_type": "display_data"
    }
   ],
   "source": [
    "##########################\n",
    "# Variational Autoencoder\n",
    "##########################\n",
    "# grab the output. Recall, that we need to grab the 3rd element our sampling z\n",
    "output_combined = decoder(encoder(x)[2])\n",
    "# link the input and the overall output\n",
    "vae = Model(x, output_combined)\n",
    "# print out what the overall model looks like\n",
    "vae.summary()\n",
    "# Defina VAE Loss Function\n",
    "def vae_loss_(x: tf.Tensor, x_decoded_mean: tf.Tensor,z_log_var=z_log_var, z_mean=z_mean, original_dim=original_dim):\n",
    "    xent_loss = original_dim * metrics.binary_crossentropy(x, x_decoded_mean)\n",
    "    #kl_loss = - 0.5 * K.sum(1 + z_log_var - K.square(z_mean) - K.exp(z_log_var), axis=-1)\n",
    "    #vae_loss = K.mean(xent_loss + kl_loss)\n",
    "    return xent_loss"
   ]
  },
  {
   "cell_type": "code",
   "execution_count": 22,
   "id": "b00e42ec-2f2a-4773-abf4-8a048366250b",
   "metadata": {},
   "outputs": [
    {
     "name": "stdout",
     "output_type": "stream",
     "text": [
      "Epoch 1/10\n",
      "\u001b[1m20419/20419\u001b[0m \u001b[32m━━━━━━━━━━━━━━━━━━━━\u001b[0m\u001b[37m\u001b[0m \u001b[1m16s\u001b[0m 726us/step - accuracy: 0.1903 - loss: 0.9158 - val_accuracy: 0.2409 - val_loss: 0.8675\n",
      "Epoch 2/10\n",
      "\u001b[1m20419/20419\u001b[0m \u001b[32m━━━━━━━━━━━━━━━━━━━━\u001b[0m\u001b[37m\u001b[0m \u001b[1m18s\u001b[0m 897us/step - accuracy: 0.2427 - loss: 0.8656 - val_accuracy: 0.2603 - val_loss: 0.8556\n",
      "Epoch 3/10\n",
      "\u001b[1m20419/20419\u001b[0m \u001b[32m━━━━━━━━━━━━━━━━━━━━\u001b[0m\u001b[37m\u001b[0m \u001b[1m20s\u001b[0m 964us/step - accuracy: 0.2630 - loss: 0.8537 - val_accuracy: 0.2635 - val_loss: 0.8524\n",
      "Epoch 4/10\n",
      "\u001b[1m20419/20419\u001b[0m \u001b[32m━━━━━━━━━━━━━━━━━━━━\u001b[0m\u001b[37m\u001b[0m \u001b[1m18s\u001b[0m 887us/step - accuracy: 0.2615 - loss: 0.8549 - val_accuracy: 0.2516 - val_loss: 0.8516\n",
      "Epoch 5/10\n",
      "\u001b[1m20419/20419\u001b[0m \u001b[32m━━━━━━━━━━━━━━━━━━━━\u001b[0m\u001b[37m\u001b[0m \u001b[1m19s\u001b[0m 908us/step - accuracy: 0.2508 - loss: 0.8512 - val_accuracy: 0.2521 - val_loss: 0.8511\n",
      "Epoch 6/10\n",
      "\u001b[1m20419/20419\u001b[0m \u001b[32m━━━━━━━━━━━━━━━━━━━━\u001b[0m\u001b[37m\u001b[0m \u001b[1m18s\u001b[0m 902us/step - accuracy: 0.2511 - loss: 0.8546 - val_accuracy: 0.2518 - val_loss: 0.8510\n",
      "Epoch 7/10\n",
      "\u001b[1m20419/20419\u001b[0m \u001b[32m━━━━━━━━━━━━━━━━━━━━\u001b[0m\u001b[37m\u001b[0m \u001b[1m18s\u001b[0m 895us/step - accuracy: 0.2517 - loss: 0.8516 - val_accuracy: 0.2520 - val_loss: 0.8506\n",
      "Epoch 8/10\n",
      "\u001b[1m20419/20419\u001b[0m \u001b[32m━━━━━━━━━━━━━━━━━━━━\u001b[0m\u001b[37m\u001b[0m \u001b[1m22s\u001b[0m 1ms/step - accuracy: 0.2524 - loss: 0.8511 - val_accuracy: 0.2529 - val_loss: 0.8505\n",
      "Epoch 9/10\n",
      "\u001b[1m20419/20419\u001b[0m \u001b[32m━━━━━━━━━━━━━━━━━━━━\u001b[0m\u001b[37m\u001b[0m \u001b[1m18s\u001b[0m 897us/step - accuracy: 0.2528 - loss: 0.8495 - val_accuracy: 0.2560 - val_loss: 0.8503\n",
      "Epoch 10/10\n",
      "\u001b[1m20419/20419\u001b[0m \u001b[32m━━━━━━━━━━━━━━━━━━━━\u001b[0m\u001b[37m\u001b[0m \u001b[1m20s\u001b[0m 978us/step - accuracy: 0.2530 - loss: 0.8499 - val_accuracy: 0.2531 - val_loss: 0.8504\n"
     ]
    }
   ],
   "source": [
    "# Defina VAE Loss Function\n",
    "def vae_loss(x: tf.Tensor, x_decoded_mean: tf.Tensor,z_log_var=z_log_var, z_mean=z_mean, original_dim=original_dim):\n",
    "    xent_loss = original_dim * metrics.binary_crossentropy(x, x_decoded_mean)\n",
    "    kl_loss = - 0.5 * K.sum(1 + z_log_var - K.square(z_mean) - K.exp(z_log_var), axis=-1)\n",
    "    vae_loss = K.mean(xent_loss + kl_loss)\n",
    "    return vae_loss\n",
    "     \n",
    "     \n",
    "# Compile VAE model with custom loss function\n",
    "vae.compile(optimizer='adam', loss='mean_squared_error', metrics=['accuracy'])\n",
    "# Train the model\n",
    "history = vae.fit(X_train, X_train,\n",
    "                  epochs=epochs,\n",
    "                  batch_size=batch_size,\n",
    "                  shuffle=True,\n",
    "                  validation_data=(X_test, X_test),\n",
    "                  verbose=1).history"
   ]
  },
  {
   "cell_type": "code",
   "execution_count": 23,
   "id": "546625d7-a1af-45e5-af7c-355550875aed",
   "metadata": {},
   "outputs": [],
   "source": [
    "num_entities = 2000000\n",
    "latent_samples = np.random.normal(size=(num_entities, latent_dim))"
   ]
  },
  {
   "cell_type": "code",
   "execution_count": 25,
   "id": "72168e4a-f62f-4655-8a1c-408189245bc5",
   "metadata": {},
   "outputs": [
    {
     "data": {
      "text/plain": [
       "(2000000, 2)"
      ]
     },
     "execution_count": 25,
     "metadata": {},
     "output_type": "execute_result"
    }
   ],
   "source": [
    "latent_samples.shape"
   ]
  },
  {
   "cell_type": "code",
   "execution_count": 24,
   "id": "a5ec6746-4c9d-48b8-9d9e-b66fa1375104",
   "metadata": {},
   "outputs": [
    {
     "ename": "ValueError",
     "evalue": "Input 0 of layer \"functional_1\" is incompatible with the layer: expected shape=(None, 14), found shape=(32, 2)",
     "output_type": "error",
     "traceback": [
      "\u001b[0;31m---------------------------------------------------------------------------\u001b[0m",
      "\u001b[0;31mValueError\u001b[0m                                Traceback (most recent call last)",
      "Cell \u001b[0;32mIn[24], line 1\u001b[0m\n\u001b[0;32m----> 1\u001b[0m synthetic_data \u001b[38;5;241m=\u001b[39m \u001b[43mvae\u001b[49m\u001b[38;5;241;43m.\u001b[39;49m\u001b[43mpredict\u001b[49m\u001b[43m(\u001b[49m\u001b[43mlatent_samples\u001b[49m\u001b[43m)\u001b[49m\n",
      "File \u001b[0;32m~/jupyter/environment/lib/python3.10/site-packages/keras/src/utils/traceback_utils.py:122\u001b[0m, in \u001b[0;36mfilter_traceback.<locals>.error_handler\u001b[0;34m(*args, **kwargs)\u001b[0m\n\u001b[1;32m    119\u001b[0m     filtered_tb \u001b[38;5;241m=\u001b[39m _process_traceback_frames(e\u001b[38;5;241m.\u001b[39m__traceback__)\n\u001b[1;32m    120\u001b[0m     \u001b[38;5;66;03m# To get the full stack trace, call:\u001b[39;00m\n\u001b[1;32m    121\u001b[0m     \u001b[38;5;66;03m# `keras.config.disable_traceback_filtering()`\u001b[39;00m\n\u001b[0;32m--> 122\u001b[0m     \u001b[38;5;28;01mraise\u001b[39;00m e\u001b[38;5;241m.\u001b[39mwith_traceback(filtered_tb) \u001b[38;5;28;01mfrom\u001b[39;00m \u001b[38;5;28;01mNone\u001b[39;00m\n\u001b[1;32m    123\u001b[0m \u001b[38;5;28;01mfinally\u001b[39;00m:\n\u001b[1;32m    124\u001b[0m     \u001b[38;5;28;01mdel\u001b[39;00m filtered_tb\n",
      "File \u001b[0;32m~/jupyter/environment/lib/python3.10/site-packages/keras/src/layers/input_spec.py:245\u001b[0m, in \u001b[0;36massert_input_compatibility\u001b[0;34m(input_spec, inputs, layer_name)\u001b[0m\n\u001b[1;32m    243\u001b[0m \u001b[38;5;28;01mif\u001b[39;00m spec_dim \u001b[38;5;129;01mis\u001b[39;00m \u001b[38;5;129;01mnot\u001b[39;00m \u001b[38;5;28;01mNone\u001b[39;00m \u001b[38;5;129;01mand\u001b[39;00m dim \u001b[38;5;129;01mis\u001b[39;00m \u001b[38;5;129;01mnot\u001b[39;00m \u001b[38;5;28;01mNone\u001b[39;00m:\n\u001b[1;32m    244\u001b[0m     \u001b[38;5;28;01mif\u001b[39;00m spec_dim \u001b[38;5;241m!=\u001b[39m dim:\n\u001b[0;32m--> 245\u001b[0m         \u001b[38;5;28;01mraise\u001b[39;00m \u001b[38;5;167;01mValueError\u001b[39;00m(\n\u001b[1;32m    246\u001b[0m             \u001b[38;5;124mf\u001b[39m\u001b[38;5;124m'\u001b[39m\u001b[38;5;124mInput \u001b[39m\u001b[38;5;132;01m{\u001b[39;00minput_index\u001b[38;5;132;01m}\u001b[39;00m\u001b[38;5;124m of layer \u001b[39m\u001b[38;5;124m\"\u001b[39m\u001b[38;5;132;01m{\u001b[39;00mlayer_name\u001b[38;5;132;01m}\u001b[39;00m\u001b[38;5;124m\"\u001b[39m\u001b[38;5;124m is \u001b[39m\u001b[38;5;124m'\u001b[39m\n\u001b[1;32m    247\u001b[0m             \u001b[38;5;124m\"\u001b[39m\u001b[38;5;124mincompatible with the layer: \u001b[39m\u001b[38;5;124m\"\u001b[39m\n\u001b[1;32m    248\u001b[0m             \u001b[38;5;124mf\u001b[39m\u001b[38;5;124m\"\u001b[39m\u001b[38;5;124mexpected shape=\u001b[39m\u001b[38;5;132;01m{\u001b[39;00mspec\u001b[38;5;241m.\u001b[39mshape\u001b[38;5;132;01m}\u001b[39;00m\u001b[38;5;124m, \u001b[39m\u001b[38;5;124m\"\u001b[39m\n\u001b[1;32m    249\u001b[0m             \u001b[38;5;124mf\u001b[39m\u001b[38;5;124m\"\u001b[39m\u001b[38;5;124mfound shape=\u001b[39m\u001b[38;5;132;01m{\u001b[39;00mshape\u001b[38;5;132;01m}\u001b[39;00m\u001b[38;5;124m\"\u001b[39m\n\u001b[1;32m    250\u001b[0m         )\n",
      "\u001b[0;31mValueError\u001b[0m: Input 0 of layer \"functional_1\" is incompatible with the layer: expected shape=(None, 14), found shape=(32, 2)"
     ]
    }
   ],
   "source": [
    "synthetic_data = vae.predict(latent_samples)"
   ]
  },
  {
   "cell_type": "code",
   "execution_count": 27,
   "id": "cc9950b7-3286-41de-8b14-c23fda2c33f4",
   "metadata": {},
   "outputs": [],
   "source": [
    "# Generate synthetic data\n",
    "def generate_synthetic_data(vae_model, num_samples):\n",
    "    # Sample from the latent space (normal distribution)\n",
    "    latent_samples = np.random.normal(size=(num_samples, latent_dim))\n",
    "    # Pass through the decoder part of the VAE model\n",
    "    synthetic_data = decoder(latent_samples)\n",
    "    return synthetic_data\n",
    "\n",
    "# Call the function to generate synthetic data\n",
    "num_synthetic_samples = 2000000  # Define the number of synthetic samples you want to generate\n",
    "synthetic_data = generate_synthetic_data(vae, num_synthetic_samples)\n"
   ]
  },
  {
   "cell_type": "code",
   "execution_count": 30,
   "id": "17e97b39-c18d-490b-bfd9-df9d65f8bbb7",
   "metadata": {},
   "outputs": [
    {
     "data": {
      "text/plain": [
       "TensorShape([2000000, 14])"
      ]
     },
     "execution_count": 30,
     "metadata": {},
     "output_type": "execute_result"
    }
   ],
   "source": [
    "synthetic_data.shape"
   ]
  },
  {
   "cell_type": "code",
   "execution_count": 31,
   "id": "838e2f20-1949-4164-ab2b-bda2d5fcc79f",
   "metadata": {},
   "outputs": [],
   "source": [
    "synData = np.array(synthetic_data)"
   ]
  },
  {
   "cell_type": "code",
   "execution_count": 32,
   "id": "0efb10c5-092b-4bac-892d-df53e6186087",
   "metadata": {},
   "outputs": [
    {
     "name": "stdout",
     "output_type": "stream",
     "text": [
      "[[4.9411909e-08 9.9892575e-01 6.0822254e-01 ... 4.0635478e-04\n",
      "  4.1288033e-08 2.1860546e-05]\n",
      " [4.2253806e-10 7.1732277e-01 1.0755090e-11 ... 9.9343675e-01\n",
      "  9.1060853e-14 5.9121376e-05]\n",
      " [4.9746383e-08 9.9874467e-01 5.7531208e-01 ... 2.1467874e-09\n",
      "  6.0007413e-04 2.0827774e-06]\n",
      " ...\n",
      " [2.4305475e-08 9.9875045e-01 5.8564287e-01 ... 2.1725062e-10\n",
      "  1.8888607e-03 9.7357611e-07]\n",
      " [2.9167915e-11 1.1095019e-05 2.3559462e-35 ... 2.4822127e-09\n",
      "  1.2778757e-04 1.1246881e-06]\n",
      " [2.6540956e-09 9.8496264e-01 2.0176456e-05 ... 9.2506306e-03\n",
      "  4.7118293e-10 1.4739782e-05]]\n"
     ]
    }
   ],
   "source": [
    "print(synData)"
   ]
  },
  {
   "cell_type": "code",
   "execution_count": null,
   "id": "6e5dec80-1e34-41b6-a7ab-22ca553d3481",
   "metadata": {},
   "outputs": [],
   "source": []
  }
 ],
 "metadata": {
  "kernelspec": {
   "display_name": "Python 3 (ipykernel)",
   "language": "python",
   "name": "python3"
  },
  "language_info": {
   "codemirror_mode": {
    "name": "ipython",
    "version": 3
   },
   "file_extension": ".py",
   "mimetype": "text/x-python",
   "name": "python",
   "nbconvert_exporter": "python",
   "pygments_lexer": "ipython3",
   "version": "3.10.12"
  }
 },
 "nbformat": 4,
 "nbformat_minor": 5
}
